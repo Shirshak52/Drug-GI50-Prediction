{
 "cells": [
  {
   "cell_type": "markdown",
   "id": "d48f544a-aa2a-4d3c-9d57-770400ed2695",
   "metadata": {},
   "source": [
    "# Import Libraries"
   ]
  },
  {
   "cell_type": "code",
   "execution_count": 13,
   "id": "136c56c7-f710-419c-9b9d-8676f253891e",
   "metadata": {},
   "outputs": [],
   "source": [
    "# Data Manipulation\n",
    "import pandas as pd\n",
    "import numpy as np\n",
    "\n",
    "# Plotting/EDA\n",
    "import matplotlib.pyplot as plt\n",
    "import seaborn as sns\n",
    "\n",
    "# File paths\n",
    "from pathlib import Path\n",
    "\n",
    "# General CPU Usage Optimization\n",
    "import os\n",
    "os.environ['OMP_NUM_THREADS'] = '16'\n",
    "os.environ['MKL_NUM_THREADS'] = '16'\n",
    "os.environ['OPENBLAS_NUM_THREADS'] = '16'\n",
    "os.environ['NUMEXPR_NUM_THREADS'] = '16'\n",
    "\n",
    "# Molecular features\n",
    "import rdkit\n",
    "from rdkit import Chem\n",
    "from rdkit.Chem import Descriptors\n",
    "from rdkit.Chem.rdMolDescriptors import GetMorganFingerprintAsBitVect\n",
    "from rdkit.Chem import rdFingerprintGenerator\n",
    "import numpy as np\n",
    "import pandas as pd\n",
    "\n",
    "# # Machine Learning - Data Preprocessing\n",
    "from sklearn.model_selection import train_test_split\n",
    "from sklearn.preprocessing import StandardScaler, MinMaxScaler\n",
    "from sklearn.metrics import mean_squared_error, r2_score\n",
    "\n",
    "# Machine Learning - Model\n",
    "import xgboost as xgb\n",
    "\n",
    "# Machine Learning - Hyperparameter Optimization\n",
    "import optuna\n",
    "\n",
    "# Machine Learning - Model Evaluation\n",
    "from sklearn.metrics import mean_squared_error, r2_score, mean_absolute_error\n",
    "\n",
    "# Model Saving\n",
    "import pickle\n",
    "\n",
    "# Progress bars\n",
    "tqdm_notebook_available = False\n",
    "try:\n",
    "    from tqdm.notebook import tqdm\n",
    "    tqdm.pandas() # Enable tqdm for pandas apply\n",
    "    tqdm_notebook_available = True\n",
    "except ImportError:\n",
    "    print(\"tqdm.notebook not found.\")"
   ]
  },
  {
   "cell_type": "markdown",
   "id": "88057df8-4d33-4683-8b8d-4a22efb7e5bf",
   "metadata": {},
   "source": [
    "# Load Cleaned Data"
   ]
  },
  {
   "cell_type": "code",
   "execution_count": 6,
   "id": "4a2cc5c7-e035-45ae-9e21-8810495397f8",
   "metadata": {},
   "outputs": [
    {
     "name": "stdout",
     "output_type": "stream",
     "text": [
      "Successfully loaded data from: ..\\data\\processed\\gi50_final_cleaned_data.csv\n",
      "Shape of loaded data: (18964, 5)\n"
     ]
    },
    {
     "data": {
      "text/html": [
       "<div>\n",
       "<style scoped>\n",
       "    .dataframe tbody tr th:only-of-type {\n",
       "        vertical-align: middle;\n",
       "    }\n",
       "\n",
       "    .dataframe tbody tr th {\n",
       "        vertical-align: top;\n",
       "    }\n",
       "\n",
       "    .dataframe thead th {\n",
       "        text-align: right;\n",
       "    }\n",
       "</style>\n",
       "<table border=\"1\" class=\"dataframe\">\n",
       "  <thead>\n",
       "    <tr style=\"text-align: right;\">\n",
       "      <th></th>\n",
       "      <th>molregno</th>\n",
       "      <th>canonical_smiles</th>\n",
       "      <th>molfile</th>\n",
       "      <th>pGI50</th>\n",
       "      <th>num_activities</th>\n",
       "    </tr>\n",
       "  </thead>\n",
       "  <tbody>\n",
       "    <tr>\n",
       "      <th>0</th>\n",
       "      <td>148</td>\n",
       "      <td>O=c1oc2c(O)c(O)cc3c(=O)oc4c(O)c(O)cc1c4c23</td>\n",
       "      <td>\\n     RDKit          2D\\n\\n 22 25  0  0  0  0...</td>\n",
       "      <td>7.999957</td>\n",
       "      <td>1</td>\n",
       "    </tr>\n",
       "    <tr>\n",
       "      <th>1</th>\n",
       "      <td>666</td>\n",
       "      <td>Cc1c(C)c2c(c(C)c1O)CCC(C)(COc1ccc(CC3SC(=O)NC3...</td>\n",
       "      <td>\\n     RDKit          2D\\n\\n 31 34  0  0  0  0...</td>\n",
       "      <td>4.823909</td>\n",
       "      <td>1</td>\n",
       "    </tr>\n",
       "    <tr>\n",
       "      <th>2</th>\n",
       "      <td>696</td>\n",
       "      <td>Cc1cc(O)nc2c3c(ccc12)OC(C)(C)C=C3</td>\n",
       "      <td>\\n     RDKit          2D\\n\\n 18 20  0  0  0  0...</td>\n",
       "      <td>5.421428</td>\n",
       "      <td>7</td>\n",
       "    </tr>\n",
       "    <tr>\n",
       "      <th>3</th>\n",
       "      <td>717</td>\n",
       "      <td>CC(O)(CS(=O)(=O)c1ccc(F)cc1)C(=O)Nc1ccc(C#N)c(...</td>\n",
       "      <td>\\n     RDKit          2D\\n\\n 29 30  0  0  0  0...</td>\n",
       "      <td>5.583359</td>\n",
       "      <td>1</td>\n",
       "    </tr>\n",
       "    <tr>\n",
       "      <th>4</th>\n",
       "      <td>846</td>\n",
       "      <td>CC1(C)CC(C)(C)c2cc(NC(=S)Nc3ccc([N+](=O)[O-])c...</td>\n",
       "      <td>Thiourea, N-(3,4-dihydro-2,2,4,4-tetramethyl-2...</td>\n",
       "      <td>5.405822</td>\n",
       "      <td>9</td>\n",
       "    </tr>\n",
       "  </tbody>\n",
       "</table>\n",
       "</div>"
      ],
      "text/plain": [
       "   molregno                                   canonical_smiles  \\\n",
       "0       148         O=c1oc2c(O)c(O)cc3c(=O)oc4c(O)c(O)cc1c4c23   \n",
       "1       666  Cc1c(C)c2c(c(C)c1O)CCC(C)(COc1ccc(CC3SC(=O)NC3...   \n",
       "2       696                  Cc1cc(O)nc2c3c(ccc12)OC(C)(C)C=C3   \n",
       "3       717  CC(O)(CS(=O)(=O)c1ccc(F)cc1)C(=O)Nc1ccc(C#N)c(...   \n",
       "4       846  CC1(C)CC(C)(C)c2cc(NC(=S)Nc3ccc([N+](=O)[O-])c...   \n",
       "\n",
       "                                             molfile     pGI50  num_activities  \n",
       "0  \\n     RDKit          2D\\n\\n 22 25  0  0  0  0...  7.999957               1  \n",
       "1  \\n     RDKit          2D\\n\\n 31 34  0  0  0  0...  4.823909               1  \n",
       "2  \\n     RDKit          2D\\n\\n 18 20  0  0  0  0...  5.421428               7  \n",
       "3  \\n     RDKit          2D\\n\\n 29 30  0  0  0  0...  5.583359               1  \n",
       "4  Thiourea, N-(3,4-dihydro-2,2,4,4-tetramethyl-2...  5.405822               9  "
      ]
     },
     "metadata": {},
     "output_type": "display_data"
    },
    {
     "name": "stdout",
     "output_type": "stream",
     "text": [
      "<class 'pandas.core.frame.DataFrame'>\n",
      "RangeIndex: 18964 entries, 0 to 18963\n",
      "Data columns (total 5 columns):\n",
      " #   Column            Non-Null Count  Dtype  \n",
      "---  ------            --------------  -----  \n",
      " 0   molregno          18964 non-null  int64  \n",
      " 1   canonical_smiles  18964 non-null  object \n",
      " 2   molfile           18964 non-null  object \n",
      " 3   pGI50             18964 non-null  float64\n",
      " 4   num_activities    18964 non-null  int64  \n",
      "dtypes: float64(1), int64(2), object(2)\n",
      "memory usage: 740.9+ KB\n"
     ]
    },
    {
     "data": {
      "text/plain": [
       "None"
      ]
     },
     "metadata": {},
     "output_type": "display_data"
    }
   ],
   "source": [
    "data_filepath = Path(\"../data/processed/gi50_final_cleaned_data.csv\")\n",
    "\n",
    "try:\n",
    "    df = pd.read_csv(data_filepath)\n",
    "    print(f\"Successfully loaded data from: {data_filepath}\")\n",
    "    print(f\"Shape of loaded data: {df.shape}\")\n",
    "    display(df.head())\n",
    "    display(df.info())\n",
    "except FileNotFoundError:\n",
    "    print(f\"Error: Data file not found at {data_filepath}. Please ensure '00_Build_Clean_Dataset.ipynb' was run and saved the file.\")"
   ]
  },
  {
   "cell_type": "markdown",
   "id": "778afb80-78fb-4d85-8dba-09226fcd788b",
   "metadata": {},
   "source": [
    "# EDA"
   ]
  },
  {
   "cell_type": "markdown",
   "id": "62e2f011-837a-472d-9d17-6f9924f9930c",
   "metadata": {},
   "source": [
    "## Initial Checks"
   ]
  },
  {
   "cell_type": "code",
   "execution_count": 7,
   "id": "7ed32371-40f4-4ed4-80ba-021862168a54",
   "metadata": {},
   "outputs": [
    {
     "data": {
      "image/png": "[encoded data removed]",
      "text/plain": [
       "<Figure size 800x500 with 1 Axes>"
      ]
     },
     "metadata": {},
     "output_type": "display_data"
    },
    {
     "name": "stdout",
     "output_type": "stream",
     "text": [
      "\n",
      "Descriptive statistics of numerical columns:\n"
     ]
    },
    {
     "data": {
      "text/html": [
       "<div>\n",
       "<style scoped>\n",
       "    .dataframe tbody tr th:only-of-type {\n",
       "        vertical-align: middle;\n",
       "    }\n",
       "\n",
       "    .dataframe tbody tr th {\n",
       "        vertical-align: top;\n",
       "    }\n",
       "\n",
       "    .dataframe thead th {\n",
       "        text-align: right;\n",
       "    }\n",
       "</style>\n",
       "<table border=\"1\" class=\"dataframe\">\n",
       "  <thead>\n",
       "    <tr style=\"text-align: right;\">\n",
       "      <th></th>\n",
       "      <th>molregno</th>\n",
       "      <th>pGI50</th>\n",
       "      <th>num_activities</th>\n",
       "    </tr>\n",
       "  </thead>\n",
       "  <tbody>\n",
       "    <tr>\n",
       "      <th>count</th>\n",
       "      <td>1.896400e+04</td>\n",
       "      <td>18964.000000</td>\n",
       "      <td>18964.000000</td>\n",
       "    </tr>\n",
       "    <tr>\n",
       "      <th>mean</th>\n",
       "      <td>1.469810e+06</td>\n",
       "      <td>5.605709</td>\n",
       "      <td>5.678232</td>\n",
       "    </tr>\n",
       "    <tr>\n",
       "      <th>std</th>\n",
       "      <td>8.725293e+05</td>\n",
       "      <td>0.988554</td>\n",
       "      <td>11.122305</td>\n",
       "    </tr>\n",
       "    <tr>\n",
       "      <th>min</th>\n",
       "      <td>1.480000e+02</td>\n",
       "      <td>2.699000</td>\n",
       "      <td>1.000000</td>\n",
       "    </tr>\n",
       "    <tr>\n",
       "      <th>25%</th>\n",
       "      <td>5.755018e+05</td>\n",
       "      <td>4.835585</td>\n",
       "      <td>1.000000</td>\n",
       "    </tr>\n",
       "    <tr>\n",
       "      <th>50%</th>\n",
       "      <td>1.557706e+06</td>\n",
       "      <td>5.470846</td>\n",
       "      <td>2.000000</td>\n",
       "    </tr>\n",
       "    <tr>\n",
       "      <th>75%</th>\n",
       "      <td>2.281521e+06</td>\n",
       "      <td>6.236571</td>\n",
       "      <td>5.000000</td>\n",
       "    </tr>\n",
       "    <tr>\n",
       "      <th>max</th>\n",
       "      <td>2.881183e+06</td>\n",
       "      <td>8.462476</td>\n",
       "      <td>219.000000</td>\n",
       "    </tr>\n",
       "  </tbody>\n",
       "</table>\n",
       "</div>"
      ],
      "text/plain": [
       "           molregno         pGI50  num_activities\n",
       "count  1.896400e+04  18964.000000    18964.000000\n",
       "mean   1.469810e+06      5.605709        5.678232\n",
       "std    8.725293e+05      0.988554       11.122305\n",
       "min    1.480000e+02      2.699000        1.000000\n",
       "25%    5.755018e+05      4.835585        1.000000\n",
       "50%    1.557706e+06      5.470846        2.000000\n",
       "75%    2.281521e+06      6.236571        5.000000\n",
       "max    2.881183e+06      8.462476      219.000000"
      ]
     },
     "metadata": {},
     "output_type": "display_data"
    },
    {
     "name": "stdout",
     "output_type": "stream",
     "text": [
      "\n",
      "Remaining missing values:\n"
     ]
    },
    {
     "data": {
      "text/plain": [
       "Series([], dtype: int64)"
      ]
     },
     "metadata": {},
     "output_type": "display_data"
    },
    {
     "name": "stdout",
     "output_type": "stream",
     "text": [
      "\n",
      "Distribution of 'num_activities':\n"
     ]
    },
    {
     "data": {
      "text/plain": [
       "num_activities\n",
       "1    0.330363\n",
       "2    0.176756\n",
       "3    0.147437\n",
       "4    0.082894\n",
       "5    0.052731\n",
       "Name: proportion, dtype: float64"
      ]
     },
     "metadata": {},
     "output_type": "display_data"
    },
    {
     "data": {
      "image/png": "[encoded data removed]",
      "text/plain": [
       "<Figure size 800x500 with 1 Axes>"
      ]
     },
     "metadata": {},
     "output_type": "display_data"
    }
   ],
   "source": [
    "# Re-confirm target variable distribution (pGI50)\n",
    "plt.figure(figsize=(8, 5))\n",
    "sns.histplot(data=df, x='pGI50', bins=50, kde=True, color='purple')\n",
    "plt.title('Distribution of pGI50 Values in Cleaned Dataset')\n",
    "plt.xlabel('pGI50')\n",
    "plt.ylabel('Count')\n",
    "plt.grid(axis='y', linestyle='--', alpha=0.7)\n",
    "plt.tight_layout()\n",
    "plt.show()\n",
    "\n",
    "# Check summary statistics for numerical columns, especially pGI50\n",
    "print(\"\\nDescriptive statistics of numerical columns:\")\n",
    "display(df.describe())\n",
    "\n",
    "# Check for any remaining missing value (should be minimal or none)\n",
    "print(\"\\nRemaining missing values:\")\n",
    "display(df.isnull().sum()[df.isnull().sum() > 0])\n",
    "\n",
    "# Check num_activities distribution\n",
    "if 'num_activities' in df.columns:\n",
    "    print(\"\\nDistribution of 'num_activities':\")\n",
    "    display(df['num_activities'].value_counts(normalize=True).head())\n",
    "\n",
    "    plt.figure(figsize=(8, 5))\n",
    "    sns.histplot(data=df, x='num_activities', bins=range(1, df['num_activities'].max() + 2), kde=False, color='green')\n",
    "    plt.title('Distribution of Number of Activities per Drug')\n",
    "    plt.xlabel('Number of Activities')\n",
    "    plt.ylabel('Count')\n",
    "    plt.yscale('log') # Often useful if few drugs have many activities\n",
    "    plt.grid(axis='y', linestyle='--', alpha=0.7)\n",
    "    plt.tight_layout()\n",
    "    plt.show()"
   ]
  },
  {
   "cell_type": "markdown",
   "id": "6d378dac-65b8-4d1f-8517-c43861be9640",
   "metadata": {},
   "source": [
    "# Engineer Features"
   ]
  },
  {
   "cell_type": "markdown",
   "id": "3f987ebd-ed57-4985-ad48-b5b0d50c47be",
   "metadata": {},
   "source": [
    "## Generate RDKit Descriptors (Physicochemical properties, counts, etc.)"
   ]
  },
  {
   "cell_type": "code",
   "execution_count": 14,
   "id": "d3fa34df-c3fa-4925-9a71-4deb92111343",
   "metadata": {},
   "outputs": [
    {
     "name": "stdout",
     "output_type": "stream",
     "text": [
      "Starting molecular feature generation from SMILES...\n",
      "Generating 217 RDKit physicochemical descriptors...\n"
     ]
    },
    {
     "data": {
      "application/vnd.jupyter.widget-view+json": {
       "model_id": "af79780317b04a3e8a8afd31baacc002",
       "version_major": 2,
       "version_minor": 0
      },
      "text/plain": [
       "  0%|          | 0/18964 [00:00<?, ?it/s]"
      ]
     },
     "metadata": {},
     "output_type": "display_data"
    },
    {
     "name": "stderr",
     "output_type": "stream",
     "text": [
      "[18:22:54] Explicit valence for atom # 34 P, 7, is greater than permitted\n"
     ]
    },
    {
     "name": "stdout",
     "output_type": "stream",
     "text": [
      "RDKit physicochemical descriptors generated.\n"
     ]
    },
    {
     "data": {
      "text/html": [
       "<div>\n",
       "<style scoped>\n",
       "    .dataframe tbody tr th:only-of-type {\n",
       "        vertical-align: middle;\n",
       "    }\n",
       "\n",
       "    .dataframe tbody tr th {\n",
       "        vertical-align: top;\n",
       "    }\n",
       "\n",
       "    .dataframe thead th {\n",
       "        text-align: right;\n",
       "    }\n",
       "</style>\n",
       "<table border=\"1\" class=\"dataframe\">\n",
       "  <thead>\n",
       "    <tr style=\"text-align: right;\">\n",
       "      <th></th>\n",
       "      <th>MaxAbsEStateIndex</th>\n",
       "      <th>MaxEStateIndex</th>\n",
       "      <th>MinAbsEStateIndex</th>\n",
       "      <th>MinEStateIndex</th>\n",
       "      <th>qed</th>\n",
       "      <th>SPS</th>\n",
       "      <th>MolWt</th>\n",
       "      <th>HeavyAtomMolWt</th>\n",
       "      <th>ExactMolWt</th>\n",
       "      <th>NumValenceElectrons</th>\n",
       "      <th>...</th>\n",
       "      <th>fr_sulfide</th>\n",
       "      <th>fr_sulfonamd</th>\n",
       "      <th>fr_sulfone</th>\n",
       "      <th>fr_term_acetylene</th>\n",
       "      <th>fr_tetrazole</th>\n",
       "      <th>fr_thiazole</th>\n",
       "      <th>fr_thiocyan</th>\n",
       "      <th>fr_thiophene</th>\n",
       "      <th>fr_unbrch_alkane</th>\n",
       "      <th>fr_urea</th>\n",
       "    </tr>\n",
       "  </thead>\n",
       "  <tbody>\n",
       "    <tr>\n",
       "      <th>0</th>\n",
       "      <td>11.996238</td>\n",
       "      <td>11.996238</td>\n",
       "      <td>0.005972</td>\n",
       "      <td>-0.940881</td>\n",
       "      <td>0.216285</td>\n",
       "      <td>11.818182</td>\n",
       "      <td>302.194</td>\n",
       "      <td>296.146</td>\n",
       "      <td>302.006267</td>\n",
       "      <td>110.0</td>\n",
       "      <td>...</td>\n",
       "      <td>0.0</td>\n",
       "      <td>0.0</td>\n",
       "      <td>0.0</td>\n",
       "      <td>0.0</td>\n",
       "      <td>0.0</td>\n",
       "      <td>0.0</td>\n",
       "      <td>0.0</td>\n",
       "      <td>0.0</td>\n",
       "      <td>0.0</td>\n",
       "      <td>0.0</td>\n",
       "    </tr>\n",
       "    <tr>\n",
       "      <th>1</th>\n",
       "      <td>11.735952</td>\n",
       "      <td>11.735952</td>\n",
       "      <td>0.229569</td>\n",
       "      <td>-0.467042</td>\n",
       "      <td>0.716604</td>\n",
       "      <td>22.645161</td>\n",
       "      <td>441.549</td>\n",
       "      <td>414.333</td>\n",
       "      <td>441.160994</td>\n",
       "      <td>164.0</td>\n",
       "      <td>...</td>\n",
       "      <td>1.0</td>\n",
       "      <td>0.0</td>\n",
       "      <td>0.0</td>\n",
       "      <td>0.0</td>\n",
       "      <td>0.0</td>\n",
       "      <td>0.0</td>\n",
       "      <td>0.0</td>\n",
       "      <td>0.0</td>\n",
       "      <td>0.0</td>\n",
       "      <td>0.0</td>\n",
       "    </tr>\n",
       "    <tr>\n",
       "      <th>2</th>\n",
       "      <td>9.639307</td>\n",
       "      <td>9.639307</td>\n",
       "      <td>0.047809</td>\n",
       "      <td>-0.299061</td>\n",
       "      <td>0.767926</td>\n",
       "      <td>16.388889</td>\n",
       "      <td>241.290</td>\n",
       "      <td>226.170</td>\n",
       "      <td>241.110279</td>\n",
       "      <td>92.0</td>\n",
       "      <td>...</td>\n",
       "      <td>0.0</td>\n",
       "      <td>0.0</td>\n",
       "      <td>0.0</td>\n",
       "      <td>0.0</td>\n",
       "      <td>0.0</td>\n",
       "      <td>0.0</td>\n",
       "      <td>0.0</td>\n",
       "      <td>0.0</td>\n",
       "      <td>0.0</td>\n",
       "      <td>0.0</td>\n",
       "    </tr>\n",
       "    <tr>\n",
       "      <th>3</th>\n",
       "      <td>13.006084</td>\n",
       "      <td>13.006084</td>\n",
       "      <td>0.342865</td>\n",
       "      <td>-4.860872</td>\n",
       "      <td>0.560412</td>\n",
       "      <td>13.965517</td>\n",
       "      <td>430.379</td>\n",
       "      <td>416.267</td>\n",
       "      <td>430.061041</td>\n",
       "      <td>154.0</td>\n",
       "      <td>...</td>\n",
       "      <td>0.0</td>\n",
       "      <td>0.0</td>\n",
       "      <td>1.0</td>\n",
       "      <td>0.0</td>\n",
       "      <td>0.0</td>\n",
       "      <td>0.0</td>\n",
       "      <td>0.0</td>\n",
       "      <td>0.0</td>\n",
       "      <td>0.0</td>\n",
       "      <td>0.0</td>\n",
       "    </tr>\n",
       "    <tr>\n",
       "      <th>4</th>\n",
       "      <td>10.730998</td>\n",
       "      <td>10.730998</td>\n",
       "      <td>0.052565</td>\n",
       "      <td>-0.422109</td>\n",
       "      <td>0.375924</td>\n",
       "      <td>16.888889</td>\n",
       "      <td>401.557</td>\n",
       "      <td>378.373</td>\n",
       "      <td>401.123169</td>\n",
       "      <td>142.0</td>\n",
       "      <td>...</td>\n",
       "      <td>1.0</td>\n",
       "      <td>0.0</td>\n",
       "      <td>0.0</td>\n",
       "      <td>0.0</td>\n",
       "      <td>0.0</td>\n",
       "      <td>0.0</td>\n",
       "      <td>0.0</td>\n",
       "      <td>0.0</td>\n",
       "      <td>0.0</td>\n",
       "      <td>0.0</td>\n",
       "    </tr>\n",
       "  </tbody>\n",
       "</table>\n",
       "<p>5 rows × 217 columns</p>\n",
       "</div>"
      ],
      "text/plain": [
       "   MaxAbsEStateIndex  MaxEStateIndex  MinAbsEStateIndex  MinEStateIndex  \\\n",
       "0          11.996238       11.996238           0.005972       -0.940881   \n",
       "1          11.735952       11.735952           0.229569       -0.467042   \n",
       "2           9.639307        9.639307           0.047809       -0.299061   \n",
       "3          13.006084       13.006084           0.342865       -4.860872   \n",
       "4          10.730998       10.730998           0.052565       -0.422109   \n",
       "\n",
       "        qed        SPS    MolWt  HeavyAtomMolWt  ExactMolWt  \\\n",
       "0  0.216285  11.818182  302.194         296.146  302.006267   \n",
       "1  0.716604  22.645161  441.549         414.333  441.160994   \n",
       "2  0.767926  16.388889  241.290         226.170  241.110279   \n",
       "3  0.560412  13.965517  430.379         416.267  430.061041   \n",
       "4  0.375924  16.888889  401.557         378.373  401.123169   \n",
       "\n",
       "   NumValenceElectrons  ...  fr_sulfide  fr_sulfonamd  fr_sulfone  \\\n",
       "0                110.0  ...         0.0           0.0         0.0   \n",
       "1                164.0  ...         1.0           0.0         0.0   \n",
       "2                 92.0  ...         0.0           0.0         0.0   \n",
       "3                154.0  ...         0.0           0.0         1.0   \n",
       "4                142.0  ...         1.0           0.0         0.0   \n",
       "\n",
       "   fr_term_acetylene  fr_tetrazole  fr_thiazole  fr_thiocyan  fr_thiophene  \\\n",
       "0                0.0           0.0          0.0          0.0           0.0   \n",
       "1                0.0           0.0          0.0          0.0           0.0   \n",
       "2                0.0           0.0          0.0          0.0           0.0   \n",
       "3                0.0           0.0          0.0          0.0           0.0   \n",
       "4                0.0           0.0          0.0          0.0           0.0   \n",
       "\n",
       "   fr_unbrch_alkane  fr_urea  \n",
       "0               0.0      0.0  \n",
       "1               0.0      0.0  \n",
       "2               0.0      0.0  \n",
       "3               0.0      0.0  \n",
       "4               0.0      0.0  \n",
       "\n",
       "[5 rows x 217 columns]"
      ]
     },
     "metadata": {},
     "output_type": "display_data"
    }
   ],
   "source": [
    "print(\"Starting molecular feature generation from SMILES...\")\n",
    "\n",
    "def generate_all_rdkit_descriptors(smiles):\n",
    "    mol = Chem.MolFromSmiles(smiles)\n",
    "    if mol is None:\n",
    "        # Return a list of NaNs for all descriptors if SMILES is invalid\n",
    "        return [np.nan] * len(Descriptors._descList)\n",
    "    else:\n",
    "        # Descriptors._descList contains (name, function) tuples\n",
    "        return [descriptor[1](mol) for descriptor in Descriptors._descList]\n",
    "\n",
    "# Get the list of all RDKit descriptor names\n",
    "all_rdkit_descriptor_names = [descriptor[0] for descriptor in Descriptors._descList]\n",
    "\n",
    "print(f\"Generating {len(all_rdkit_descriptor_names)} RDKit physicochemical descriptors...\")\n",
    "if tqdm_notebook_available:\n",
    "    rdkit_desc_values = df['canonical_smiles'].progress_apply(generate_all_rdkit_descriptors)\n",
    "else:\n",
    "    rdkit_desc_values = df['canonical_smiles'].apply(generate_all_rdkit_descriptors)\n",
    "\n",
    "# Convert the list of lists into a DataFrame\n",
    "rdkit_desc_df = pd.DataFrame(rdkit_desc_values.tolist(), columns=all_rdkit_descriptor_names, index=df.index)\n",
    "print(\"RDKit physicochemical descriptors generated.\")\n",
    "display(rdkit_desc_df.head())"
   ]
  },
  {
   "cell_type": "markdown",
   "id": "ffba0f13-a545-4453-8d1d-9d678e229c0d",
   "metadata": {},
   "source": [
    "## Generate Morgan Fingerprints"
   ]
  },
  {
   "cell_type": "code",
   "execution_count": 15,
   "id": "42884227-8c2f-4f00-b78a-edb0d5ff9491",
   "metadata": {},
   "outputs": [
    {
     "name": "stdout",
     "output_type": "stream",
     "text": [
      "\n",
      "Generating Morgan Fingerprints (Radius=2, nBits=2048)...\n"
     ]
    },
    {
     "data": {
      "application/vnd.jupyter.widget-view+json": {
       "model_id": "fa2eabb3ae344393b18c3a995fc8a6ca",
       "version_major": 2,
       "version_minor": 0
      },
      "text/plain": [
       "  0%|          | 0/18964 [00:00<?, ?it/s]"
      ]
     },
     "metadata": {},
     "output_type": "display_data"
    },
    {
     "name": "stderr",
     "output_type": "stream",
     "text": [
      "[18:30:09] Explicit valence for atom # 34 P, 7, is greater than permitted\n"
     ]
    },
    {
     "name": "stdout",
     "output_type": "stream",
     "text": [
      "Morgan Fingerprints generated.\n"
     ]
    },
    {
     "data": {
      "text/html": [
       "<div>\n",
       "<style scoped>\n",
       "    .dataframe tbody tr th:only-of-type {\n",
       "        vertical-align: middle;\n",
       "    }\n",
       "\n",
       "    .dataframe tbody tr th {\n",
       "        vertical-align: top;\n",
       "    }\n",
       "\n",
       "    .dataframe thead th {\n",
       "        text-align: right;\n",
       "    }\n",
       "</style>\n",
       "<table border=\"1\" class=\"dataframe\">\n",
       "  <thead>\n",
       "    <tr style=\"text-align: right;\">\n",
       "      <th></th>\n",
       "      <th>morgan_fp_0</th>\n",
       "      <th>morgan_fp_1</th>\n",
       "      <th>morgan_fp_2</th>\n",
       "      <th>morgan_fp_3</th>\n",
       "      <th>morgan_fp_4</th>\n",
       "      <th>morgan_fp_5</th>\n",
       "      <th>morgan_fp_6</th>\n",
       "      <th>morgan_fp_7</th>\n",
       "      <th>morgan_fp_8</th>\n",
       "      <th>morgan_fp_9</th>\n",
       "      <th>...</th>\n",
       "      <th>morgan_fp_2038</th>\n",
       "      <th>morgan_fp_2039</th>\n",
       "      <th>morgan_fp_2040</th>\n",
       "      <th>morgan_fp_2041</th>\n",
       "      <th>morgan_fp_2042</th>\n",
       "      <th>morgan_fp_2043</th>\n",
       "      <th>morgan_fp_2044</th>\n",
       "      <th>morgan_fp_2045</th>\n",
       "      <th>morgan_fp_2046</th>\n",
       "      <th>morgan_fp_2047</th>\n",
       "    </tr>\n",
       "  </thead>\n",
       "  <tbody>\n",
       "    <tr>\n",
       "      <th>0</th>\n",
       "      <td>0</td>\n",
       "      <td>0</td>\n",
       "      <td>0</td>\n",
       "      <td>0</td>\n",
       "      <td>0</td>\n",
       "      <td>0</td>\n",
       "      <td>0</td>\n",
       "      <td>0</td>\n",
       "      <td>0</td>\n",
       "      <td>0</td>\n",
       "      <td>...</td>\n",
       "      <td>0</td>\n",
       "      <td>0</td>\n",
       "      <td>0</td>\n",
       "      <td>0</td>\n",
       "      <td>0</td>\n",
       "      <td>0</td>\n",
       "      <td>0</td>\n",
       "      <td>0</td>\n",
       "      <td>0</td>\n",
       "      <td>0</td>\n",
       "    </tr>\n",
       "    <tr>\n",
       "      <th>1</th>\n",
       "      <td>0</td>\n",
       "      <td>0</td>\n",
       "      <td>0</td>\n",
       "      <td>0</td>\n",
       "      <td>0</td>\n",
       "      <td>0</td>\n",
       "      <td>0</td>\n",
       "      <td>0</td>\n",
       "      <td>0</td>\n",
       "      <td>0</td>\n",
       "      <td>...</td>\n",
       "      <td>0</td>\n",
       "      <td>0</td>\n",
       "      <td>0</td>\n",
       "      <td>0</td>\n",
       "      <td>0</td>\n",
       "      <td>0</td>\n",
       "      <td>0</td>\n",
       "      <td>0</td>\n",
       "      <td>0</td>\n",
       "      <td>0</td>\n",
       "    </tr>\n",
       "    <tr>\n",
       "      <th>2</th>\n",
       "      <td>0</td>\n",
       "      <td>1</td>\n",
       "      <td>0</td>\n",
       "      <td>0</td>\n",
       "      <td>0</td>\n",
       "      <td>0</td>\n",
       "      <td>1</td>\n",
       "      <td>0</td>\n",
       "      <td>0</td>\n",
       "      <td>0</td>\n",
       "      <td>...</td>\n",
       "      <td>0</td>\n",
       "      <td>0</td>\n",
       "      <td>0</td>\n",
       "      <td>0</td>\n",
       "      <td>0</td>\n",
       "      <td>0</td>\n",
       "      <td>0</td>\n",
       "      <td>0</td>\n",
       "      <td>0</td>\n",
       "      <td>0</td>\n",
       "    </tr>\n",
       "    <tr>\n",
       "      <th>3</th>\n",
       "      <td>0</td>\n",
       "      <td>0</td>\n",
       "      <td>0</td>\n",
       "      <td>0</td>\n",
       "      <td>0</td>\n",
       "      <td>0</td>\n",
       "      <td>0</td>\n",
       "      <td>0</td>\n",
       "      <td>0</td>\n",
       "      <td>0</td>\n",
       "      <td>...</td>\n",
       "      <td>0</td>\n",
       "      <td>0</td>\n",
       "      <td>0</td>\n",
       "      <td>0</td>\n",
       "      <td>0</td>\n",
       "      <td>1</td>\n",
       "      <td>0</td>\n",
       "      <td>0</td>\n",
       "      <td>0</td>\n",
       "      <td>0</td>\n",
       "    </tr>\n",
       "    <tr>\n",
       "      <th>4</th>\n",
       "      <td>0</td>\n",
       "      <td>0</td>\n",
       "      <td>0</td>\n",
       "      <td>0</td>\n",
       "      <td>0</td>\n",
       "      <td>0</td>\n",
       "      <td>0</td>\n",
       "      <td>0</td>\n",
       "      <td>0</td>\n",
       "      <td>0</td>\n",
       "      <td>...</td>\n",
       "      <td>0</td>\n",
       "      <td>0</td>\n",
       "      <td>0</td>\n",
       "      <td>0</td>\n",
       "      <td>0</td>\n",
       "      <td>0</td>\n",
       "      <td>0</td>\n",
       "      <td>0</td>\n",
       "      <td>0</td>\n",
       "      <td>0</td>\n",
       "    </tr>\n",
       "  </tbody>\n",
       "</table>\n",
       "<p>5 rows × 2048 columns</p>\n",
       "</div>"
      ],
      "text/plain": [
       "   morgan_fp_0  morgan_fp_1  morgan_fp_2  morgan_fp_3  morgan_fp_4  \\\n",
       "0            0            0            0            0            0   \n",
       "1            0            0            0            0            0   \n",
       "2            0            1            0            0            0   \n",
       "3            0            0            0            0            0   \n",
       "4            0            0            0            0            0   \n",
       "\n",
       "   morgan_fp_5  morgan_fp_6  morgan_fp_7  morgan_fp_8  morgan_fp_9  ...  \\\n",
       "0            0            0            0            0            0  ...   \n",
       "1            0            0            0            0            0  ...   \n",
       "2            0            1            0            0            0  ...   \n",
       "3            0            0            0            0            0  ...   \n",
       "4            0            0            0            0            0  ...   \n",
       "\n",
       "   morgan_fp_2038  morgan_fp_2039  morgan_fp_2040  morgan_fp_2041  \\\n",
       "0               0               0               0               0   \n",
       "1               0               0               0               0   \n",
       "2               0               0               0               0   \n",
       "3               0               0               0               0   \n",
       "4               0               0               0               0   \n",
       "\n",
       "   morgan_fp_2042  morgan_fp_2043  morgan_fp_2044  morgan_fp_2045  \\\n",
       "0               0               0               0               0   \n",
       "1               0               0               0               0   \n",
       "2               0               0               0               0   \n",
       "3               0               1               0               0   \n",
       "4               0               0               0               0   \n",
       "\n",
       "   morgan_fp_2046  morgan_fp_2047  \n",
       "0               0               0  \n",
       "1               0               0  \n",
       "2               0               0  \n",
       "3               0               0  \n",
       "4               0               0  \n",
       "\n",
       "[5 rows x 2048 columns]"
      ]
     },
     "metadata": {},
     "output_type": "display_data"
    }
   ],
   "source": [
    "fingerprint_radius = 2 # Common choice: 2 or 3\n",
    "fingerprint_nBits = 2048 # Common choice: 1024 or 2048\n",
    "\n",
    "morgan_gen = rdFingerprintGenerator.GetMorganGenerator(radius=fingerprint_radius, fpSize=fingerprint_nBits)\n",
    "\n",
    "def generate_morgan_fp(smiles):\n",
    "    mol = Chem.MolFromSmiles(smiles)\n",
    "    if mol is None:\n",
    "        # Return a list of zeros for the fingerprint if SMILES is invalid\n",
    "        return [0] * fingerprint_nBits\n",
    "    else:\n",
    "        fp = morgan_gen.GetFingerprint(mol)\n",
    "        return list(fp) # Convert ExplicitBitVect to a list of integers\n",
    "\n",
    "print(f\"\\nGenerating Morgan Fingerprints (Radius={fingerprint_radius}, nBits={fingerprint_nBits})...\")\n",
    "if tqdm_notebook_available:\n",
    "    morgan_fp_values = df['canonical_smiles'].progress_apply(generate_morgan_fp)\n",
    "else:\n",
    "    morgan_fp_values = df['canonical_smiles'].apply(generate_morgan_fp)\n",
    "\n",
    "# Convert the list of lists into a DataFrame\n",
    "morgan_fp_df = pd.DataFrame(morgan_fp_values.tolist(),\n",
    "                            columns=[f'morgan_fp_{i}' for i in range(fingerprint_nBits)],\n",
    "                            index=df.index)\n",
    "print(\"Morgan Fingerprints generated.\")\n",
    "display(morgan_fp_df.head())"
   ]
  },
  {
   "cell_type": "markdown",
   "id": "26f3cdcc-a24c-4141-b397-c7fcfc9173d0",
   "metadata": {},
   "source": [
    "## Combine Features And Save Dataset"
   ]
  },
  {
   "cell_type": "code",
   "execution_count": 20,
   "id": "8c989e8e-68af-482f-92f1-faf177f17a55",
   "metadata": {},
   "outputs": [
    {
     "name": "stdout",
     "output_type": "stream",
     "text": [
      "\n",
      "Warning: Dropped 221 rows due to NaN values in generated features (e.g., from invalid SMILES).\n",
      "New DataFrame shape after feature NaN drop: (18743, 2269)\n"
     ]
    }
   ],
   "source": [
    "features_df = df[['molregno', 'pGI50', 'canonical_smiles']].copy() # Keep SMILES for reference\n",
    "\n",
    "# Conditionally add 'num_activities' if it exists in the original df\n",
    "if 'num_activities' in df.columns:\n",
    "    features_df['num_activities'] = df['num_activities']\n",
    "\n",
    "# Concatenate the generated RDKit descriptors and Morgan fingerprints\n",
    "features_df = pd.concat([features_df, rdkit_desc_df, morgan_fp_df], axis=1)\n",
    "\n",
    "# Handle any NaN values generated\n",
    "initial_rows_before_feature_dropna = features_df.shape[0]\n",
    "features_df.dropna(inplace=True)\n",
    "rows_after_feature_dropna = features_df.shape[0]\n",
    "\n",
    "if initial_rows_before_feature_dropna != rows_after_feature_dropna:\n",
    "    rows_removed_due_to_nan = initial_rows_before_feature_dropna - rows_after_feature_dropna\n",
    "    print(f\"\\nWarning: Dropped {rows_removed_due_to_nan} rows due to NaN values in generated features (e.g., from invalid SMILES).\")\n",
    "    print(f\"New DataFrame shape after feature NaN drop: {features_df.shape}\")\n"
   ]
  },
  {
   "cell_type": "markdown",
   "id": "bfec4350-838b-44a4-a3fb-ab9e35b6da09",
   "metadata": {},
   "source": [
    "## Refine Features (*)"
   ]
  },
  {
   "cell_type": "markdown",
   "id": "e36ed214-60f5-4622-821d-fcbdf91aa331",
   "metadata": {},
   "source": [
    "**NOTE**: This section is ITERATIVE and is run as needed based on outputs in other files such as model-specific notebooks."
   ]
  },
  {
   "cell_type": "markdown",
   "id": "d53cc789-1c53-4664-87b3-80dae2db9746",
   "metadata": {},
   "source": [
    "### Visualize Feature Distributions"
   ]
  },
  {
   "cell_type": "code",
   "execution_count": 22,
   "id": "6f191b91-2465-4121-88c1-74dde2fca880",
   "metadata": {},
   "outputs": [
    {
     "data": {
      "image/png": "[encoded data removed]",
      "text/plain": [
       "<Figure size 1400x500 with 2 Axes>"
      ]
     },
     "metadata": {},
     "output_type": "display_data"
    },
    {
     "name": "stdout",
     "output_type": "stream",
     "text": [
      "\n",
      "--- Descriptive Statistics for Ipc (Original Values) ---\n"
     ]
    },
    {
     "data": {
      "text/plain": [
       "count    1.874300e+04\n",
       "mean     6.396526e+83\n",
       "std      8.757169e+85\n",
       "min      1.360964e+01\n",
       "1%       3.065675e+03\n",
       "10%      8.281945e+04\n",
       "25%      6.204611e+05\n",
       "50%      6.775744e+06\n",
       "75%      1.353448e+08\n",
       "90%      4.963041e+09\n",
       "99%      4.085466e+19\n",
       "99.9%    1.142365e+32\n",
       "max      1.198901e+88\n",
       "Name: Ipc, dtype: float64"
      ]
     },
     "metadata": {},
     "output_type": "display_data"
    },
    {
     "name": "stdout",
     "output_type": "stream",
     "text": [
      "\n",
      "--- Data points with highest Ipc values ---\n"
     ]
    },
    {
     "data": {
      "text/plain": [
       "3422     1.198901e+88\n",
       "4191     1.586424e+44\n",
       "4117     6.761484e+41\n",
       "4185     3.223169e+41\n",
       "5070     6.701014e+40\n",
       "3421     1.805888e+40\n",
       "4184     8.338991e+37\n",
       "4170     1.922392e+36\n",
       "5071     9.928989e+35\n",
       "15884    3.690800e+35\n",
       "Name: Ipc, dtype: float64"
      ]
     },
     "metadata": {},
     "output_type": "display_data"
    },
    {
     "name": "stdout",
     "output_type": "stream",
     "text": [
      "\n",
      "--- Skewness of Ipc (Original Values ---\n",
      "136.90507660419317\n",
      "\n",
      "--- Skewness of Ipc (Log1p-Scaled Values ---\n",
      "4.868875233071964\n"
     ]
    }
   ],
   "source": [
    "plt.figure(figsize=(14, 5))\n",
    "\n",
    "# Subplot 1: Original 'Ipc' distribution (may be heavily skewed)\n",
    "plt.subplot(1, 2, 1)\n",
    "sns.histplot(features_df['Ipc'], bins=50, kde=True)\n",
    "plt.title('Original Distribution of Ipc')\n",
    "plt.xlabel('Ipc Value')\n",
    "plt.ylabel('Count')\n",
    "plt.grid(True, linestyle='--', alpha=0.6)\n",
    "plt.yscale('log')\n",
    "plt.ylim(bottom=1) # Ensure y-axis starts at 1 for log scale\n",
    "\n",
    "# Subplot 2: Log-transformed 'Ipc' distribution\n",
    "plt.subplot(1, 2, 2)\n",
    "# Filter out any non-positive values if log1p is still problematic (Ipc should be non-negative)\n",
    "sns.histplot(np.log1p(features_df['Ipc']), bins=50, kde=True)\n",
    "plt.title('Log1p-Transformed Distribution of Ipc')\n",
    "plt.xlabel('log1p(Ipc) Value')\n",
    "plt.ylabel('Count')\n",
    "plt.grid(True, linestyle='--', alpha=0.6)\n",
    "\n",
    "plt.tight_layout()\n",
    "plt.show()\n",
    "\n",
    "print(\"\\n--- Descriptive Statistics for Ipc (Original Values) ---\")\n",
    "display(features_df['Ipc'].describe(percentiles=[.01, .1, .25, .5, .75, .9, .99, .999]))\n",
    "\n",
    "print(\"\\n--- Data points with highest Ipc values ---\")\n",
    "display(features_df['Ipc'].nlargest(10)) # Show top 10 largest values\n",
    "\n",
    "print(f\"\\n--- Skewness of Ipc (Original Values ---\\n{features_df['Ipc'].skew()}\")\n",
    "\n",
    "log_scaled_ipc = np.log1p(features_df['Ipc'])\n",
    "print(f\"\\n--- Skewness of Ipc (Log1p-Scaled Values ---\\n{log_scaled_ipc.skew()}\")"
   ]
  },
  {
   "cell_type": "markdown",
   "id": "e8a216b1-7b64-445a-bf09-883daed2d2b5",
   "metadata": {},
   "source": [
    "### Handle Feature-Specific Issues"
   ]
  },
  {
   "cell_type": "code",
   "execution_count": 23,
   "id": "a847ef68-ed97-4e99-af27-33057a119378",
   "metadata": {},
   "outputs": [
    {
     "name": "stdout",
     "output_type": "stream",
     "text": [
      "Checking 'Ipc' feature for values exceeding cap of 1e+15...\n",
      "Original max 'Ipc' value: 1.20e+88\n",
      "WARNING: Found 390 'Ipc' values to cap.\n",
      "Max 'Ipc' value after capping: 1.00e+15\n"
     ]
    }
   ],
   "source": [
    "IPC_CAP_VALUE = 1e15\n",
    "\n",
    "print(f\"Checking 'Ipc' feature for values exceeding cap of {IPC_CAP_VALUE:.0e}...\")\n",
    "\n",
    "original_max_ipc = features_df['Ipc'].max()\n",
    "num_values_to_cap = (features_df['Ipc'] > IPC_CAP_VALUE).sum()\n",
    "\n",
    "print(f\"Original max 'Ipc' value: {original_max_ipc:.2e}\")\n",
    "\n",
    "if num_values_to_cap > 0:\n",
    "    print(f\"WARNING: Found {num_values_to_cap} 'Ipc' values to cap.\")\n",
    "    # Apply the capping using .clip() method\n",
    "    features_df['Ipc'] = features_df['Ipc'].clip(upper=IPC_CAP_VALUE)\n",
    "    print(f\"Max 'Ipc' value after capping: {features_df['Ipc'].max():.2e}\")\n",
    "else:\n",
    "    print(\"No 'Ipc' values found exceeding the cap. No capping applied.\")"
   ]
  },
  {
   "cell_type": "markdown",
   "id": "41a3f8ba-220a-4da5-8ba3-26cf4852475d",
   "metadata": {},
   "source": [
    "### Check for any NaNs generated"
   ]
  },
  {
   "cell_type": "code",
   "execution_count": 24,
   "id": "aaeb97fe-6bf9-4aef-aecb-1ed8cc717520",
   "metadata": {},
   "outputs": [],
   "source": [
    "initial_rows_before_feature_dropna = features_df.shape[0]\n",
    "features_df.dropna(inplace=True)\n",
    "rows_after_feature_dropna = features_df.shape[0]\n",
    "\n",
    "if initial_rows_before_feature_dropna != rows_after_feature_dropna:\n",
    "    rows_removed_due_to_nan = initial_rows_before_feature_dropna - rows_after_feature_dropna\n",
    "    print(f\"\\nWarning: Dropped {rows_removed_due_to_nan} rows due to NaN values in generated features (e.g., from invalid SMILES).\")\n",
    "    print(f\"New DataFrame shape after feature NaN drop: {features_df.shape}\")"
   ]
  },
  {
   "cell_type": "markdown",
   "id": "5c88d34b-bae9-4b5a-b87f-e59144826bdf",
   "metadata": {},
   "source": [
    "# Save the dataset"
   ]
  },
  {
   "cell_type": "code",
   "execution_count": 25,
   "id": "de38370b-382e-4bba-9a15-1bbe24a7b497",
   "metadata": {},
   "outputs": [
    {
     "name": "stdout",
     "output_type": "stream",
     "text": [
      "\n",
      "Saving fully feature-engineered DataFrame to ..\\data\\features...\n",
      "Fully feature-engineered DataFrame saved successfully.\n",
      "\n",
      "Feature engineering complete.\n"
     ]
    }
   ],
   "source": [
    "# Save this feature engineered dataset\n",
    "features_dir = Path(\"../data/features\")\n",
    "features_dir.mkdir(parents=True, exist_ok=True)\n",
    "\n",
    "print(f\"\\nSaving fully feature-engineered DataFrame to {features_dir}...\")\n",
    "features_df.to_parquet(features_dir / \"gi50_features.parquet\", index=False)\n",
    "print(\"Fully feature-engineered DataFrame saved successfully.\")\n",
    "\n",
    "print(\"\\nFeature engineering complete.\")"
   ]
  }
 ],
 "metadata": {
  "kernelspec": {
   "display_name": "Python 3 (ipykernel)",
   "language": "python",
   "name": "python3"
  },
  "language_info": {
   "codemirror_mode": {
    "name": "ipython",
    "version": 3
   },
   "file_extension": ".py",
   "mimetype": "text/x-python",
   "name": "python",
   "nbconvert_exporter": "python",
   "pygments_lexer": "ipython3",
   "version": "3.11.4"
  }
 },
 "nbformat": 4,
 "nbformat_minor": 5
}
